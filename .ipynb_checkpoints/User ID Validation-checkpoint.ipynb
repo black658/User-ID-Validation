{
 "cells": [
  {
   "cell_type": "code",
   "execution_count": 1,
   "metadata": {},
   "outputs": [],
   "source": [
    "import re"
   ]
  },
  {
   "cell_type": "code",
   "execution_count": null,
   "metadata": {},
   "outputs": [],
   "source": [
    "pattern = re.compile(r'')\n",
    "\n",
    "username = input('Enter a username: ')\n",
    "pattern = re.compile(r'^[a-zA-Z0-9]([.-](?![._]) | [a-zA-Z0-9])$')\n",
    "result = pattern.match(username)\n",
    "print(result)\n",
    "if result:\n",
    "    print('Username Formation is Successful')\n",
    "else:\n",
    "    print('Invalid Username')"
   ]
  },
  {
   "cell_type": "code",
   "execution_count": null,
   "metadata": {},
   "outputs": [],
   "source": []
  }
 ],
 "metadata": {
  "kernelspec": {
   "display_name": "Python 3 (ipykernel)",
   "language": "python",
   "name": "python3"
  },
  "language_info": {
   "codemirror_mode": {
    "name": "ipython",
    "version": 3
   },
   "file_extension": ".py",
   "mimetype": "text/x-python",
   "name": "python",
   "nbconvert_exporter": "python",
   "pygments_lexer": "ipython3",
   "version": "3.11.1"
  },
  "vscode": {
   "interpreter": {
    "hash": "7013ca61bf8e319d0a2ebb13ef262a9d6bd896a5b05046698b9274d7e3c558da"
   }
  }
 },
 "nbformat": 4,
 "nbformat_minor": 2
}
